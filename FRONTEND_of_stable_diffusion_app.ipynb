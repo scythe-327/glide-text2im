{
  "cells": [
    {
      "cell_type": "markdown",
      "metadata": {
        "id": "view-in-github",
        "colab_type": "text"
      },
      "source": [
        "<a href=\"https://colab.research.google.com/github/scythe-327/glide-text2im/blob/main/FRONTEND_of_stable_diffusion_app.ipynb\" target=\"_parent\"><img src=\"https://colab.research.google.com/assets/colab-badge.svg\" alt=\"Open In Colab\"/></a>"
      ]
    },
    {
      "cell_type": "code",
      "execution_count": 19,
      "metadata": {
        "collapsed": true,
        "id": "ZjxbGFk9moYT",
        "outputId": "75057d4a-1b3f-4506-8897-5ddb8c45fabb",
        "colab": {
          "base_uri": "https://localhost:8080/"
        }
      },
      "outputs": [
        {
          "output_type": "stream",
          "name": "stdout",
          "text": [
            "Requirement already satisfied: diffusers==0.10.2 in /usr/local/lib/python3.10/dist-packages (0.10.2)\n",
            "Requirement already satisfied: transformers in /usr/local/lib/python3.10/dist-packages (4.31.0)\n",
            "Requirement already satisfied: scipy in /usr/local/lib/python3.10/dist-packages (1.10.1)\n",
            "Requirement already satisfied: ftfy in /usr/local/lib/python3.10/dist-packages (6.1.1)\n",
            "Requirement already satisfied: accelerate in /usr/local/lib/python3.10/dist-packages (0.21.0)\n",
            "Requirement already satisfied: importlib-metadata in /usr/lib/python3/dist-packages (from diffusers==0.10.2) (4.6.4)\n",
            "Requirement already satisfied: filelock in /usr/local/lib/python3.10/dist-packages (from diffusers==0.10.2) (3.12.2)\n",
            "Requirement already satisfied: huggingface-hub>=0.10.0 in /usr/local/lib/python3.10/dist-packages (from diffusers==0.10.2) (0.16.4)\n",
            "Requirement already satisfied: numpy in /usr/local/lib/python3.10/dist-packages (from diffusers==0.10.2) (1.22.4)\n",
            "Requirement already satisfied: regex!=2019.12.17 in /usr/local/lib/python3.10/dist-packages (from diffusers==0.10.2) (2022.10.31)\n",
            "Requirement already satisfied: requests in /usr/local/lib/python3.10/dist-packages (from diffusers==0.10.2) (2.27.1)\n",
            "Requirement already satisfied: Pillow in /usr/local/lib/python3.10/dist-packages (from diffusers==0.10.2) (8.4.0)\n",
            "Requirement already satisfied: packaging>=20.0 in /usr/local/lib/python3.10/dist-packages (from transformers) (23.1)\n",
            "Requirement already satisfied: pyyaml>=5.1 in /usr/local/lib/python3.10/dist-packages (from transformers) (6.0.1)\n",
            "Requirement already satisfied: tokenizers!=0.11.3,<0.14,>=0.11.1 in /usr/local/lib/python3.10/dist-packages (from transformers) (0.13.3)\n",
            "Requirement already satisfied: safetensors>=0.3.1 in /usr/local/lib/python3.10/dist-packages (from transformers) (0.3.1)\n",
            "Requirement already satisfied: tqdm>=4.27 in /usr/local/lib/python3.10/dist-packages (from transformers) (4.65.0)\n",
            "Requirement already satisfied: wcwidth>=0.2.5 in /usr/local/lib/python3.10/dist-packages (from ftfy) (0.2.6)\n",
            "Requirement already satisfied: psutil in /usr/local/lib/python3.10/dist-packages (from accelerate) (5.9.5)\n",
            "Requirement already satisfied: torch>=1.10.0 in /usr/local/lib/python3.10/dist-packages (from accelerate) (2.0.1+cu118)\n",
            "Requirement already satisfied: fsspec in /usr/local/lib/python3.10/dist-packages (from huggingface-hub>=0.10.0->diffusers==0.10.2) (2023.6.0)\n",
            "Requirement already satisfied: typing-extensions>=3.7.4.3 in /usr/local/lib/python3.10/dist-packages (from huggingface-hub>=0.10.0->diffusers==0.10.2) (4.7.1)\n",
            "Requirement already satisfied: sympy in /usr/local/lib/python3.10/dist-packages (from torch>=1.10.0->accelerate) (1.11.1)\n",
            "Requirement already satisfied: networkx in /usr/local/lib/python3.10/dist-packages (from torch>=1.10.0->accelerate) (3.1)\n",
            "Requirement already satisfied: jinja2 in /usr/local/lib/python3.10/dist-packages (from torch>=1.10.0->accelerate) (3.1.2)\n",
            "Requirement already satisfied: triton==2.0.0 in /usr/local/lib/python3.10/dist-packages (from torch>=1.10.0->accelerate) (2.0.0)\n",
            "Requirement already satisfied: cmake in /usr/local/lib/python3.10/dist-packages (from triton==2.0.0->torch>=1.10.0->accelerate) (3.25.2)\n",
            "Requirement already satisfied: lit in /usr/local/lib/python3.10/dist-packages (from triton==2.0.0->torch>=1.10.0->accelerate) (16.0.6)\n",
            "Requirement already satisfied: urllib3<1.27,>=1.21.1 in /usr/local/lib/python3.10/dist-packages (from requests->diffusers==0.10.2) (1.26.16)\n",
            "Requirement already satisfied: certifi>=2017.4.17 in /usr/local/lib/python3.10/dist-packages (from requests->diffusers==0.10.2) (2023.5.7)\n",
            "Requirement already satisfied: charset-normalizer~=2.0.0 in /usr/local/lib/python3.10/dist-packages (from requests->diffusers==0.10.2) (2.0.12)\n",
            "Requirement already satisfied: idna<4,>=2.5 in /usr/local/lib/python3.10/dist-packages (from requests->diffusers==0.10.2) (3.4)\n",
            "Requirement already satisfied: MarkupSafe>=2.0 in /usr/local/lib/python3.10/dist-packages (from jinja2->torch>=1.10.0->accelerate) (2.1.3)\n",
            "Requirement already satisfied: mpmath>=0.19 in /usr/local/lib/python3.10/dist-packages (from sympy->torch>=1.10.0->accelerate) (1.3.0)\n",
            "Requirement already satisfied: flask-localtunnel in /usr/local/lib/python3.10/dist-packages (1.0.6)\n",
            "Requirement already satisfied: Flask>=0.14.0 in /usr/local/lib/python3.10/dist-packages (from flask-localtunnel) (2.2.5)\n",
            "Requirement already satisfied: py-localtunnel in /usr/local/lib/python3.10/dist-packages (from flask-localtunnel) (1.0.2)\n",
            "Requirement already satisfied: Werkzeug>=2.2.2 in /usr/local/lib/python3.10/dist-packages (from Flask>=0.14.0->flask-localtunnel) (2.3.6)\n",
            "Requirement already satisfied: Jinja2>=3.0 in /usr/local/lib/python3.10/dist-packages (from Flask>=0.14.0->flask-localtunnel) (3.1.2)\n",
            "Requirement already satisfied: itsdangerous>=2.0 in /usr/local/lib/python3.10/dist-packages (from Flask>=0.14.0->flask-localtunnel) (2.1.2)\n",
            "Requirement already satisfied: click>=8.0 in /usr/local/lib/python3.10/dist-packages (from Flask>=0.14.0->flask-localtunnel) (8.1.6)\n",
            "Requirement already satisfied: urllib3 in /usr/local/lib/python3.10/dist-packages (from py-localtunnel->flask-localtunnel) (1.26.16)\n",
            "Requirement already satisfied: MarkupSafe>=2.0 in /usr/local/lib/python3.10/dist-packages (from Jinja2>=3.0->Flask>=0.14.0->flask-localtunnel) (2.1.3)\n",
            "Requirement already satisfied: flask in /usr/local/lib/python3.10/dist-packages (2.2.5)\n",
            "Requirement already satisfied: Werkzeug>=2.2.2 in /usr/local/lib/python3.10/dist-packages (from flask) (2.3.6)\n",
            "Requirement already satisfied: Jinja2>=3.0 in /usr/local/lib/python3.10/dist-packages (from flask) (3.1.2)\n",
            "Requirement already satisfied: itsdangerous>=2.0 in /usr/local/lib/python3.10/dist-packages (from flask) (2.1.2)\n",
            "Requirement already satisfied: click>=8.0 in /usr/local/lib/python3.10/dist-packages (from flask) (8.1.6)\n",
            "Requirement already satisfied: MarkupSafe>=2.0 in /usr/local/lib/python3.10/dist-packages (from Jinja2>=3.0->flask) (2.1.3)\n"
          ]
        }
      ],
      "source": [
        "!pip install diffusers==0.10.2 transformers scipy ftfy accelerate  # To run Stable Diffusion\n",
        "# !pip install pyngrok==4.1.1  # To register our ngrok token\n",
        "!pip install flask-localtunnel\n",
        "!pip install flask  # So we can make flask app port thru ngrok"
      ]
    },
    {
      "cell_type": "code",
      "execution_count": 20,
      "metadata": {
        "collapsed": true,
        "id": "mTV9ShRmsG9F"
      },
      "outputs": [],
      "source": [
        "from flask import Flask\n",
        "from flask_lt import run_with_lt"
      ]
    },
    {
      "cell_type": "code",
      "execution_count": 21,
      "metadata": {
        "id": "1Sk3F9z_GRgc"
      },
      "outputs": [],
      "source": [
        "import os\n",
        "if not os.path.isdir('/content/app'):\n",
        "  os.mkdir(\"/content/app\")\n",
        "os.chdir(\"/content/app\")"
      ]
    },
    {
      "cell_type": "markdown",
      "metadata": {
        "id": "gkAW5jZylzns"
      },
      "source": [
        "Next we create a `static` subfolder and then create a CSS file `styles.css` inside it. This provides the final styling for our application."
      ]
    },
    {
      "cell_type": "code",
      "execution_count": 22,
      "metadata": {
        "id": "ijxUQ9BVGXqs"
      },
      "outputs": [],
      "source": [
        "if not os.path.isdir('/content/app/static'):\n",
        "  os.mkdir(\"./static\")\n",
        "os.chdir(\"./static\")\n",
        "\n",
        "css = \"\"\"\n",
        "    body {\n",
        "    font-family: Arial, Helvetica, sans-serif;\n",
        "}\n",
        "\n",
        "form {\n",
        "    /* Center the form on the page */\n",
        "    margin: 0 auto;\n",
        "    width: 400px;\n",
        "    /* Form outline */\n",
        "    padding: 1em;\n",
        "    display: flex;\n",
        "}\n",
        "\n",
        "img {\n",
        "    border-radius: 8px;\n",
        "    display: block;\n",
        "    margin-left: auto;\n",
        "    margin-right: auto;\n",
        "    margin-top: 40px;\n",
        "    filter: drop-shadow(5px 5px 10px #000);\n",
        "    opacity: 1;\n",
        "    hover: opacity: 0.6;\n",
        "    transition: opacity 1s ease 0s;\n",
        "\n",
        "}\n",
        "\n",
        "ul,\n",
        "li {\n",
        "    display: inline\n",
        "}\n",
        "\n",
        "ul {\n",
        "    list-style: none;\n",
        "    padding: 0;\n",
        "    margin: 0;\n",
        "    display: flex\n",
        "}\n",
        "\n",
        "form li+li {\n",
        "    margin-top: 1em;\n",
        "}\n",
        "\n",
        "label {\n",
        "    /* Uniform size & alignment */\n",
        "    display: inline-block;\n",
        "    width: 90px;\n",
        "    text-align: right;\n",
        "}\n",
        "\n",
        "input,\n",
        "textarea {\n",
        "    /* To make sure that all text fields have the same font settings\n",
        "         By default, textareas have a monospace font */\n",
        "    font: 1em sans-serif;\n",
        "\n",
        "    /* Uniform text field size */\n",
        "    width: 300px;\n",
        "    box-sizing: border-box;\n",
        "\n",
        "    /* Match form field borders */\n",
        "    border: 1px solid #999;\n",
        "}\n",
        "\n",
        "input:focus,\n",
        "textarea:focus {\n",
        "    /* Additional highlight for focused elements */\n",
        "    border-color: #000;\n",
        "}\n",
        "\n",
        "textarea {\n",
        "    /* Align multiline text fields with their labels */\n",
        "    vertical-align: top;\n",
        "\n",
        "    /* Provide space to type some text */\n",
        "    height: 5em;\n",
        "}\n",
        "\n",
        ".button {\n",
        "    /* Align buttons with the text fields */\n",
        "    padding-left: 90px;\n",
        "    /* same size as the label elements */\n",
        "}\n",
        "\n",
        "button {\n",
        "    /* This extra margin represent roughly the same space as the space\n",
        "         between the labels and their text fields */\n",
        "    margin-left: 0.5em;\n",
        "}\n",
        "\n",
        "label,\n",
        "input {\n",
        "    display: flex;\n",
        "    flex-direction: column;\n",
        "}\n",
        "\n",
        "input,\n",
        "label {\n",
        "    display: block;\n",
        "}\"\"\"\n",
        "\n",
        "with open(\"styles.css\", 'w') as f:\n",
        "  f.write(css)\n",
        "\n",
        "os.chdir(\"..\")"
      ]
    },
    {
      "cell_type": "markdown",
      "source": [
        "Next we create and save `icon.png`, which stores our app's favicon."
      ],
      "metadata": {
        "id": "Or8tIBlmVFbv"
      }
    },
    {
      "cell_type": "code",
      "source": [
        "import base64\n",
        "s = b'iVBORw0KGgoAAAANSUhEUgAAABkAAAAZCAYAAADE6YVjAAAAAXNSR0IArs4c6QAAAARnQU1BAACxjwv8YQUAAAAJcEhZcwAADsMAAA7DAcdvqGQAAANrSURBVEhL3ZVLbE1BGMdn5lwuomk9bmlpUq82IqQSEQuiYUMIISJtUlytUo+FR4J2USJCSBOU0Gooi9K0Wo3HRiwECdqIsvCsPrS5dFNEvBbnjP83M+fqde9py9L/Zs73nTkz32+++eZm2H8jbqyn8oq+Ztq2U+w4zijbtgfBcsexme04PY5t364/M36fGeqpPiGByTtGJo+f9mJS+tzEuPgkBggDRFmAJflouxvKU0rMlJgSxnpIbgp1Pg3cvVUqm5tqGed6TWRdHyoy1lOekMCU7cOYlFlSOkwyh4U6mmXjvQv4ooJLehhQwvKN73LJ8ZInhEsxH1GmU1DOLTwE+9jT1f7zx5dS3fc7KzB3qRcPeUO42IxQBEDzSTTqLfH74/YgboceFdbUpRva0owfpZiQMemFaYxbC9CQgM80qxPgqkvHR/3AXu2nBHRtaIZaTqGaHEMxIVh9EFGH6SxUJui1zne/PvpJfZesAc/vxKDR1AdlLclrHWf8CEVBkqYeSEAGBb0ByOQTHuVmCLt8IvAZpoJwQKApjh/M9eT8qehMuMhH8AQTHO+w3KrrfnXogxmhhLCHXY8YfR2ACMi4GUcGI2C2yQLzfExQPbh1zgwJq7o0sRsDrukkNAg2fknu2yB5vRWZibTmo8AZGuKTlAXag9DzfQ/NiD8kqwigpUFSsgLTEVYEBMG3EIBOFRMA6VNVZj5Hqebk2FqY9ohTxtnsxcGWCfTmKgxJyTg1EYCF6tjqTMiGYK+bITGFoAeNB59IilZMD1dhCAKuw6qHK4CuA5qvouvZLnVs+1A9gjvGJyi11YvWtYw2XRqSOuscTpO11QTWjY6tsC6qUX2o9lQSLeKMu2Umm6Gcy/BxNpmINQCMVMeVaqFhNzufbGvX3/vVYRVbbVV42/ZSD0mkZlQKBA2qQvfKBLXBn21gqjudHMKEO242uixsxOLgmxxyhPAPycTqZ+rgBiR8j7lt3VNDB65KNxv10y9rVc+kOTVXcF+spAPOcG/QTSGZzG9rzIn6A/anFQVdrbgpU+l6dhxExc2JaBMFtmWe2R69TcJ6j2zq9LS/1lFt9H6ZzFYJbI3frYUBnW19lN3fsfWQrMY2fdO1IYKifEfR+TJA7qMuTQDsBOgYffkXXS1LocXNJReMl4h9gzFW9Qt/ieYwvJpjQQAAAABJRU5ErkJggg=='\n",
        "with open('/content/app/static/icon.png', 'wb') as f:\n",
        "  f.write(base64.decodebytes(s))"
      ],
      "metadata": {
        "id": "t66Eyn5l5djb"
      },
      "execution_count": 23,
      "outputs": []
    },
    {
      "cell_type": "markdown",
      "metadata": {
        "id": "PRdtNaA8mBsl"
      },
      "source": [
        "Next we create the `index.html` Jinja template that will be populated and returned by our Flask app as an HTML file."
      ]
    },
    {
      "cell_type": "code",
      "execution_count": 24,
      "metadata": {
        "id": "AnecDHVFG8-H"
      },
      "outputs": [],
      "source": [
        "html = \"\"\"\n",
        "<!DOCTYPE html>\n",
        "<html lang=\"en\">\n",
        "<head>\n",
        "    <meta charset=\"UTF-8\">\n",
        "    <meta http-equiv=\"X-UA-Compatible\" content=\"IE=edge\">\n",
        "    <meta name=\"viewport\" content=\"width=device-width, initial-scale=1.0\">\n",
        "    <link rel=\"stylesheet\" type=\"text/css\" href=\"{{ url_for('static',filename='styles.css') }}\" />\n",
        "    <link rel=\"icon\" type=\"image/x-icon\" href=\"{{ url_for('static',filename='icon.png') }}\" />\n",
        "    <title>Stable Diffusion App</title>\n",
        "</head>\n",
        "<body>\n",
        "  <h1>Stable Diffusion App</h1>\n",
        "    <p>Generate images with stable diffusion for free! Enter your prompt below and hit \"Create\" to generate an image (takes ~10 seconds per image).</p>\n",
        "    <p>Companion article: <a href=\"https://www.assemblyai.com/blog/build-a-free-stable-diffusion-app-with-a-gpu-backend/\">Build a free Stable Diffusion app with a GPU backend</a> on the <href=\"https://www.assemblyai.com/blog/\">AssemblyAI Blog</a>.</p>\n",
        "    <form action=\"\\submit-prompt\" method=\"post\" id=\"submission-form\">\n",
        "        <ul>\n",
        "            <li>\n",
        "              <label for=\"prompt\">Prompt:</label>\n",
        "              <input type=\"text\" id=\"prompt\" name=\"prompt-input\" />\n",
        "            </li>\n",
        "            <li class=\"button\">\n",
        "                <button type=\"submit\">Create</button>\n",
        "            </li>\n",
        "          </ul>\n",
        "    </form>\n",
        "    <img src=\"{{ generated_image|default(\"https://images.squarespace-cdn.com/content/v1/6213c340453c3f502425776e/0715034d-4044-4c55-9131-e4bfd6dd20ca/2_4x.png?format=512w\", true) }}\" class=\"mainImg\" alt=\"Generated Image\">\n",
        "</body>\n",
        "</html>\n",
        "\n",
        "\"\"\"\n",
        "\n",
        "with open(\"index.html\", 'w') as f:\n",
        "  f.write(html)\n"
      ]
    },
    {
      "cell_type": "code",
      "execution_count": 30,
      "metadata": {
        "id": "LCx22jTCb9rn",
        "colab": {
          "base_uri": "https://localhost:8080/"
        },
        "outputId": "70a62163-203e-45f6-93f1-c5631199c77a"
      },
      "outputs": [
        {
          "output_type": "stream",
          "name": "stdout",
          "text": [
            "Password/Enpoint IP for localtunnel is: 34.31.0.67\n"
          ]
        }
      ],
      "source": [
        "import os\n",
        "import urllib\n",
        "os.chdir(\"/content/app\")\n",
        "print(\"Password/Enpoint IP for localtunnel is:\",urllib.request.urlopen('https://ipv4.icanhazip.com').read().decode('utf8').strip(\"\\n\"))"
      ]
    },
    {
      "cell_type": "code",
      "execution_count": null,
      "metadata": {
        "colab": {
          "base_uri": "https://localhost:8080/",
          "height": 428,
          "referenced_widgets": [
            "badeb6cc6d38426e9fde074064643378",
            "45fd150bbda74befb51cf3e4aba1449b",
            "b7c79e2e42d844d7a7b66d8be658d21c",
            "a79906d7bb824791b1a3fc5061c81281",
            "6d9a995cd7744b29a9c0e905ba950214",
            "3a97cde2f0324b2b86dfc31a6c0304ef",
            "b5bb58f2dc47453ea06c8138c64a2b60",
            "8469492939a04c0d9cfa1948c49b9767",
            "9af6dbc507a94439902dceb661cd3ac5",
            "57402dc54c72456bbb8c828e976a69db",
            "63b13a52d5994ad6b09c49b962611644",
            "1e50fdc6e9014234b9098d47697e2690",
            "066752f3def54ab79f7eb1a3c413d058",
            "726040df53dd44c789ed0d15a33d350d",
            "c34b05f38b754d0c94e28b52290b051c",
            "77bd1ccfa0bc4a5a84d73cf29be5dced",
            "b4fc58ea59bd4429a34cd7e17d1fdcc2",
            "6969383a9a2b4b9cb1d82f00e01c3e88",
            "7219efed321b49ccb09b4691e0742cf6",
            "f3715ca08b0d429795eea6519aaa7c33",
            "6a1dc06d171244a3b1f74fee4ea114a8",
            "28bf18a4d91f4dd28de48b4585257966"
          ]
        },
        "id": "ueQfZ9f9nGah",
        "outputId": "85472849-b76c-4616-ff9a-c0943c7a9155"
      },
      "outputs": [
        {
          "output_type": "display_data",
          "data": {
            "text/plain": [
              "Fetching 15 files:   0%|          | 0/15 [00:00<?, ?it/s]"
            ],
            "application/vnd.jupyter.widget-view+json": {
              "version_major": 2,
              "version_minor": 0,
              "model_id": "badeb6cc6d38426e9fde074064643378"
            }
          },
          "metadata": {}
        },
        {
          "output_type": "stream",
          "name": "stderr",
          "text": [
            "`text_config_dict` is provided which will be used to initialize `CLIPTextConfig`. The value `text_config[\"id2label\"]` will be overriden.\n",
            "`text_config_dict` is provided which will be used to initialize `CLIPTextConfig`. The value `text_config[\"bos_token_id\"]` will be overriden.\n",
            "`text_config_dict` is provided which will be used to initialize `CLIPTextConfig`. The value `text_config[\"eos_token_id\"]` will be overriden.\n"
          ]
        },
        {
          "output_type": "stream",
          "name": "stdout",
          "text": [
            " * Serving Flask app '__main__'\n",
            " * Debug mode: off\n"
          ]
        },
        {
          "output_type": "stream",
          "name": "stderr",
          "text": [
            "INFO:werkzeug:\u001b[31m\u001b[1mWARNING: This is a development server. Do not use it in a production deployment. Use a production WSGI server instead.\u001b[0m\n",
            " * Running on http://127.0.0.1:5000\n",
            "INFO:werkzeug:\u001b[33mPress CTRL+C to quit\u001b[0m\n"
          ]
        },
        {
          "output_type": "stream",
          "name": "stdout",
          "text": [
            " your url is: https://soft-flowers-flash.loca.lt\n"
          ]
        },
        {
          "output_type": "stream",
          "name": "stderr",
          "text": [
            "INFO:werkzeug:127.0.0.1 - - [23/Jul/2023 04:34:22] \"GET / HTTP/1.1\" 200 -\n",
            "INFO:werkzeug:127.0.0.1 - - [23/Jul/2023 04:34:23] \"GET /static/styles.css HTTP/1.1\" 200 -\n",
            "INFO:werkzeug:127.0.0.1 - - [23/Jul/2023 04:34:23] \"GET /static/icon.png HTTP/1.1\" 200 -\n",
            "INFO:werkzeug:127.0.0.1 - - [23/Jul/2023 04:34:23] \"\u001b[36mGET /static/icon.png HTTP/1.1\u001b[0m\" 304 -\n"
          ]
        },
        {
          "output_type": "stream",
          "name": "stdout",
          "text": [
            "Generating an image of blue rose\n"
          ]
        },
        {
          "output_type": "display_data",
          "data": {
            "text/plain": [
              "  0%|          | 0/50 [00:00<?, ?it/s]"
            ],
            "application/vnd.jupyter.widget-view+json": {
              "version_major": 2,
              "version_minor": 0,
              "model_id": "1e50fdc6e9014234b9098d47697e2690"
            }
          },
          "metadata": {}
        },
        {
          "output_type": "stream",
          "name": "stderr",
          "text": [
            "INFO:werkzeug:127.0.0.1 - - [23/Jul/2023 04:34:55] \"POST /submit-prompt HTTP/1.1\" 200 -\n"
          ]
        },
        {
          "output_type": "stream",
          "name": "stdout",
          "text": [
            "Image generated! Converting image ...\n",
            "Sending image ...\n"
          ]
        },
        {
          "output_type": "stream",
          "name": "stderr",
          "text": [
            "INFO:werkzeug:127.0.0.1 - - [23/Jul/2023 04:34:56] \"\u001b[36mGET /static/styles.css HTTP/1.1\u001b[0m\" 304 -\n",
            "INFO:werkzeug:127.0.0.1 - - [23/Jul/2023 04:35:05] \"\u001b[36mGET /static/icon.png HTTP/1.1\u001b[0m\" 304 -\n",
            "INFO:werkzeug:127.0.0.1 - - [23/Jul/2023 04:35:05] \"\u001b[36mGET /static/icon.png HTTP/1.1\u001b[0m\" 304 -\n"
          ]
        }
      ],
      "source": [
        "# from flask_ngrok import run_with_ngrok\n",
        "from flask import Flask, render_template, send_file, request\n",
        "\n",
        "import torch\n",
        "from diffusers import StableDiffusionPipeline\n",
        "\n",
        "import base64\n",
        "from io import BytesIO\n",
        "\n",
        "# Load model\n",
        "pipe = StableDiffusionPipeline.from_pretrained(\"runwayml/stable-diffusion-v1-5\", revision=\"fp16\", torch_dtype=torch.float16)\n",
        "pipe.to(\"cuda\")\n",
        "\n",
        "# Start flask app and set to ngrok\n",
        "app = Flask(__name__, template_folder='.') # period is because default templates folder is /templates\n",
        "run_with_lt(app)\n",
        "\n",
        "@app.route('/')\n",
        "def initial():\n",
        "  return render_template('index.html')\n",
        "\n",
        "@app.route('/submit-prompt', methods=['POST'])\n",
        "def generate_image():\n",
        "  prompt = request.form['prompt-input']\n",
        "  print(f\"Generating an image of {prompt}\")\n",
        "\n",
        "  image = pipe(prompt).images[0]\n",
        "  print(\"Image generated! Converting image ...\")\n",
        "\n",
        "  buffered = BytesIO()\n",
        "  image.save(buffered, format=\"PNG\")\n",
        "  img_str = base64.b64encode(buffered.getvalue())\n",
        "  b = \"data:image/png;base64,\" + str(img_str)[2:-1]\n",
        "\n",
        "  print(\"Sending image ...\")\n",
        "  return render_template('index.html', generated_image=b)\n",
        "\n",
        "if __name__ == '__main__':\n",
        "    app.run()"
      ]
    },
    {
      "cell_type": "markdown",
      "metadata": {
        "id": "nE9ETvb-xgmm"
      },
      "source": [
        "Simply enter a prompt and click \"Create\" in order to generate an image, which will take about **10 seconds**. You can keep an eye on progress in the output of the above cell:"
      ]
    },
    {
      "cell_type": "markdown",
      "metadata": {
        "id": "ZpoWQ6YDxh7c"
      },
      "source": [
        "Once the image has been generated, it will be automatically displayed in the app:"
      ]
    },
    {
      "cell_type": "markdown",
      "metadata": {
        "id": "Qzo6EJI01igq"
      },
      "source": [
        "Right click on an image to save it"
      ]
    }
  ],
  "metadata": {
    "accelerator": "GPU",
    "colab": {
      "provenance": [],
      "include_colab_link": true
    },
    "gpuClass": "standard",
    "kernelspec": {
      "display_name": "Python 3",
      "name": "python3"
    },
    "language_info": {
      "name": "python"
    },
    "widgets": {
      "application/vnd.jupyter.widget-state+json": {
        "badeb6cc6d38426e9fde074064643378": {
          "model_module": "@jupyter-widgets/controls",
          "model_name": "HBoxModel",
          "model_module_version": "1.5.0",
          "state": {
            "_dom_classes": [],
            "_model_module": "@jupyter-widgets/controls",
            "_model_module_version": "1.5.0",
            "_model_name": "HBoxModel",
            "_view_count": null,
            "_view_module": "@jupyter-widgets/controls",
            "_view_module_version": "1.5.0",
            "_view_name": "HBoxView",
            "box_style": "",
            "children": [
              "IPY_MODEL_45fd150bbda74befb51cf3e4aba1449b",
              "IPY_MODEL_b7c79e2e42d844d7a7b66d8be658d21c",
              "IPY_MODEL_a79906d7bb824791b1a3fc5061c81281"
            ],
            "layout": "IPY_MODEL_6d9a995cd7744b29a9c0e905ba950214"
          }
        },
        "45fd150bbda74befb51cf3e4aba1449b": {
          "model_module": "@jupyter-widgets/controls",
          "model_name": "HTMLModel",
          "model_module_version": "1.5.0",
          "state": {
            "_dom_classes": [],
            "_model_module": "@jupyter-widgets/controls",
            "_model_module_version": "1.5.0",
            "_model_name": "HTMLModel",
            "_view_count": null,
            "_view_module": "@jupyter-widgets/controls",
            "_view_module_version": "1.5.0",
            "_view_name": "HTMLView",
            "description": "",
            "description_tooltip": null,
            "layout": "IPY_MODEL_3a97cde2f0324b2b86dfc31a6c0304ef",
            "placeholder": "​",
            "style": "IPY_MODEL_b5bb58f2dc47453ea06c8138c64a2b60",
            "value": "Fetching 15 files: 100%"
          }
        },
        "b7c79e2e42d844d7a7b66d8be658d21c": {
          "model_module": "@jupyter-widgets/controls",
          "model_name": "FloatProgressModel",
          "model_module_version": "1.5.0",
          "state": {
            "_dom_classes": [],
            "_model_module": "@jupyter-widgets/controls",
            "_model_module_version": "1.5.0",
            "_model_name": "FloatProgressModel",
            "_view_count": null,
            "_view_module": "@jupyter-widgets/controls",
            "_view_module_version": "1.5.0",
            "_view_name": "ProgressView",
            "bar_style": "success",
            "description": "",
            "description_tooltip": null,
            "layout": "IPY_MODEL_8469492939a04c0d9cfa1948c49b9767",
            "max": 15,
            "min": 0,
            "orientation": "horizontal",
            "style": "IPY_MODEL_9af6dbc507a94439902dceb661cd3ac5",
            "value": 15
          }
        },
        "a79906d7bb824791b1a3fc5061c81281": {
          "model_module": "@jupyter-widgets/controls",
          "model_name": "HTMLModel",
          "model_module_version": "1.5.0",
          "state": {
            "_dom_classes": [],
            "_model_module": "@jupyter-widgets/controls",
            "_model_module_version": "1.5.0",
            "_model_name": "HTMLModel",
            "_view_count": null,
            "_view_module": "@jupyter-widgets/controls",
            "_view_module_version": "1.5.0",
            "_view_name": "HTMLView",
            "description": "",
            "description_tooltip": null,
            "layout": "IPY_MODEL_57402dc54c72456bbb8c828e976a69db",
            "placeholder": "​",
            "style": "IPY_MODEL_63b13a52d5994ad6b09c49b962611644",
            "value": " 15/15 [00:00&lt;00:00, 602.46it/s]"
          }
        },
        "6d9a995cd7744b29a9c0e905ba950214": {
          "model_module": "@jupyter-widgets/base",
          "model_name": "LayoutModel",
          "model_module_version": "1.2.0",
          "state": {
            "_model_module": "@jupyter-widgets/base",
            "_model_module_version": "1.2.0",
            "_model_name": "LayoutModel",
            "_view_count": null,
            "_view_module": "@jupyter-widgets/base",
            "_view_module_version": "1.2.0",
            "_view_name": "LayoutView",
            "align_content": null,
            "align_items": null,
            "align_self": null,
            "border": null,
            "bottom": null,
            "display": null,
            "flex": null,
            "flex_flow": null,
            "grid_area": null,
            "grid_auto_columns": null,
            "grid_auto_flow": null,
            "grid_auto_rows": null,
            "grid_column": null,
            "grid_gap": null,
            "grid_row": null,
            "grid_template_areas": null,
            "grid_template_columns": null,
            "grid_template_rows": null,
            "height": null,
            "justify_content": null,
            "justify_items": null,
            "left": null,
            "margin": null,
            "max_height": null,
            "max_width": null,
            "min_height": null,
            "min_width": null,
            "object_fit": null,
            "object_position": null,
            "order": null,
            "overflow": null,
            "overflow_x": null,
            "overflow_y": null,
            "padding": null,
            "right": null,
            "top": null,
            "visibility": null,
            "width": null
          }
        },
        "3a97cde2f0324b2b86dfc31a6c0304ef": {
          "model_module": "@jupyter-widgets/base",
          "model_name": "LayoutModel",
          "model_module_version": "1.2.0",
          "state": {
            "_model_module": "@jupyter-widgets/base",
            "_model_module_version": "1.2.0",
            "_model_name": "LayoutModel",
            "_view_count": null,
            "_view_module": "@jupyter-widgets/base",
            "_view_module_version": "1.2.0",
            "_view_name": "LayoutView",
            "align_content": null,
            "align_items": null,
            "align_self": null,
            "border": null,
            "bottom": null,
            "display": null,
            "flex": null,
            "flex_flow": null,
            "grid_area": null,
            "grid_auto_columns": null,
            "grid_auto_flow": null,
            "grid_auto_rows": null,
            "grid_column": null,
            "grid_gap": null,
            "grid_row": null,
            "grid_template_areas": null,
            "grid_template_columns": null,
            "grid_template_rows": null,
            "height": null,
            "justify_content": null,
            "justify_items": null,
            "left": null,
            "margin": null,
            "max_height": null,
            "max_width": null,
            "min_height": null,
            "min_width": null,
            "object_fit": null,
            "object_position": null,
            "order": null,
            "overflow": null,
            "overflow_x": null,
            "overflow_y": null,
            "padding": null,
            "right": null,
            "top": null,
            "visibility": null,
            "width": null
          }
        },
        "b5bb58f2dc47453ea06c8138c64a2b60": {
          "model_module": "@jupyter-widgets/controls",
          "model_name": "DescriptionStyleModel",
          "model_module_version": "1.5.0",
          "state": {
            "_model_module": "@jupyter-widgets/controls",
            "_model_module_version": "1.5.0",
            "_model_name": "DescriptionStyleModel",
            "_view_count": null,
            "_view_module": "@jupyter-widgets/base",
            "_view_module_version": "1.2.0",
            "_view_name": "StyleView",
            "description_width": ""
          }
        },
        "8469492939a04c0d9cfa1948c49b9767": {
          "model_module": "@jupyter-widgets/base",
          "model_name": "LayoutModel",
          "model_module_version": "1.2.0",
          "state": {
            "_model_module": "@jupyter-widgets/base",
            "_model_module_version": "1.2.0",
            "_model_name": "LayoutModel",
            "_view_count": null,
            "_view_module": "@jupyter-widgets/base",
            "_view_module_version": "1.2.0",
            "_view_name": "LayoutView",
            "align_content": null,
            "align_items": null,
            "align_self": null,
            "border": null,
            "bottom": null,
            "display": null,
            "flex": null,
            "flex_flow": null,
            "grid_area": null,
            "grid_auto_columns": null,
            "grid_auto_flow": null,
            "grid_auto_rows": null,
            "grid_column": null,
            "grid_gap": null,
            "grid_row": null,
            "grid_template_areas": null,
            "grid_template_columns": null,
            "grid_template_rows": null,
            "height": null,
            "justify_content": null,
            "justify_items": null,
            "left": null,
            "margin": null,
            "max_height": null,
            "max_width": null,
            "min_height": null,
            "min_width": null,
            "object_fit": null,
            "object_position": null,
            "order": null,
            "overflow": null,
            "overflow_x": null,
            "overflow_y": null,
            "padding": null,
            "right": null,
            "top": null,
            "visibility": null,
            "width": null
          }
        },
        "9af6dbc507a94439902dceb661cd3ac5": {
          "model_module": "@jupyter-widgets/controls",
          "model_name": "ProgressStyleModel",
          "model_module_version": "1.5.0",
          "state": {
            "_model_module": "@jupyter-widgets/controls",
            "_model_module_version": "1.5.0",
            "_model_name": "ProgressStyleModel",
            "_view_count": null,
            "_view_module": "@jupyter-widgets/base",
            "_view_module_version": "1.2.0",
            "_view_name": "StyleView",
            "bar_color": null,
            "description_width": ""
          }
        },
        "57402dc54c72456bbb8c828e976a69db": {
          "model_module": "@jupyter-widgets/base",
          "model_name": "LayoutModel",
          "model_module_version": "1.2.0",
          "state": {
            "_model_module": "@jupyter-widgets/base",
            "_model_module_version": "1.2.0",
            "_model_name": "LayoutModel",
            "_view_count": null,
            "_view_module": "@jupyter-widgets/base",
            "_view_module_version": "1.2.0",
            "_view_name": "LayoutView",
            "align_content": null,
            "align_items": null,
            "align_self": null,
            "border": null,
            "bottom": null,
            "display": null,
            "flex": null,
            "flex_flow": null,
            "grid_area": null,
            "grid_auto_columns": null,
            "grid_auto_flow": null,
            "grid_auto_rows": null,
            "grid_column": null,
            "grid_gap": null,
            "grid_row": null,
            "grid_template_areas": null,
            "grid_template_columns": null,
            "grid_template_rows": null,
            "height": null,
            "justify_content": null,
            "justify_items": null,
            "left": null,
            "margin": null,
            "max_height": null,
            "max_width": null,
            "min_height": null,
            "min_width": null,
            "object_fit": null,
            "object_position": null,
            "order": null,
            "overflow": null,
            "overflow_x": null,
            "overflow_y": null,
            "padding": null,
            "right": null,
            "top": null,
            "visibility": null,
            "width": null
          }
        },
        "63b13a52d5994ad6b09c49b962611644": {
          "model_module": "@jupyter-widgets/controls",
          "model_name": "DescriptionStyleModel",
          "model_module_version": "1.5.0",
          "state": {
            "_model_module": "@jupyter-widgets/controls",
            "_model_module_version": "1.5.0",
            "_model_name": "DescriptionStyleModel",
            "_view_count": null,
            "_view_module": "@jupyter-widgets/base",
            "_view_module_version": "1.2.0",
            "_view_name": "StyleView",
            "description_width": ""
          }
        },
        "1e50fdc6e9014234b9098d47697e2690": {
          "model_module": "@jupyter-widgets/controls",
          "model_name": "HBoxModel",
          "model_module_version": "1.5.0",
          "state": {
            "_dom_classes": [],
            "_model_module": "@jupyter-widgets/controls",
            "_model_module_version": "1.5.0",
            "_model_name": "HBoxModel",
            "_view_count": null,
            "_view_module": "@jupyter-widgets/controls",
            "_view_module_version": "1.5.0",
            "_view_name": "HBoxView",
            "box_style": "",
            "children": [
              "IPY_MODEL_066752f3def54ab79f7eb1a3c413d058",
              "IPY_MODEL_726040df53dd44c789ed0d15a33d350d",
              "IPY_MODEL_c34b05f38b754d0c94e28b52290b051c"
            ],
            "layout": "IPY_MODEL_77bd1ccfa0bc4a5a84d73cf29be5dced"
          }
        },
        "066752f3def54ab79f7eb1a3c413d058": {
          "model_module": "@jupyter-widgets/controls",
          "model_name": "HTMLModel",
          "model_module_version": "1.5.0",
          "state": {
            "_dom_classes": [],
            "_model_module": "@jupyter-widgets/controls",
            "_model_module_version": "1.5.0",
            "_model_name": "HTMLModel",
            "_view_count": null,
            "_view_module": "@jupyter-widgets/controls",
            "_view_module_version": "1.5.0",
            "_view_name": "HTMLView",
            "description": "",
            "description_tooltip": null,
            "layout": "IPY_MODEL_b4fc58ea59bd4429a34cd7e17d1fdcc2",
            "placeholder": "​",
            "style": "IPY_MODEL_6969383a9a2b4b9cb1d82f00e01c3e88",
            "value": "100%"
          }
        },
        "726040df53dd44c789ed0d15a33d350d": {
          "model_module": "@jupyter-widgets/controls",
          "model_name": "FloatProgressModel",
          "model_module_version": "1.5.0",
          "state": {
            "_dom_classes": [],
            "_model_module": "@jupyter-widgets/controls",
            "_model_module_version": "1.5.0",
            "_model_name": "FloatProgressModel",
            "_view_count": null,
            "_view_module": "@jupyter-widgets/controls",
            "_view_module_version": "1.5.0",
            "_view_name": "ProgressView",
            "bar_style": "success",
            "description": "",
            "description_tooltip": null,
            "layout": "IPY_MODEL_7219efed321b49ccb09b4691e0742cf6",
            "max": 50,
            "min": 0,
            "orientation": "horizontal",
            "style": "IPY_MODEL_f3715ca08b0d429795eea6519aaa7c33",
            "value": 50
          }
        },
        "c34b05f38b754d0c94e28b52290b051c": {
          "model_module": "@jupyter-widgets/controls",
          "model_name": "HTMLModel",
          "model_module_version": "1.5.0",
          "state": {
            "_dom_classes": [],
            "_model_module": "@jupyter-widgets/controls",
            "_model_module_version": "1.5.0",
            "_model_name": "HTMLModel",
            "_view_count": null,
            "_view_module": "@jupyter-widgets/controls",
            "_view_module_version": "1.5.0",
            "_view_name": "HTMLView",
            "description": "",
            "description_tooltip": null,
            "layout": "IPY_MODEL_6a1dc06d171244a3b1f74fee4ea114a8",
            "placeholder": "​",
            "style": "IPY_MODEL_28bf18a4d91f4dd28de48b4585257966",
            "value": " 50/50 [00:14&lt;00:00,  5.18it/s]"
          }
        },
        "77bd1ccfa0bc4a5a84d73cf29be5dced": {
          "model_module": "@jupyter-widgets/base",
          "model_name": "LayoutModel",
          "model_module_version": "1.2.0",
          "state": {
            "_model_module": "@jupyter-widgets/base",
            "_model_module_version": "1.2.0",
            "_model_name": "LayoutModel",
            "_view_count": null,
            "_view_module": "@jupyter-widgets/base",
            "_view_module_version": "1.2.0",
            "_view_name": "LayoutView",
            "align_content": null,
            "align_items": null,
            "align_self": null,
            "border": null,
            "bottom": null,
            "display": null,
            "flex": null,
            "flex_flow": null,
            "grid_area": null,
            "grid_auto_columns": null,
            "grid_auto_flow": null,
            "grid_auto_rows": null,
            "grid_column": null,
            "grid_gap": null,
            "grid_row": null,
            "grid_template_areas": null,
            "grid_template_columns": null,
            "grid_template_rows": null,
            "height": null,
            "justify_content": null,
            "justify_items": null,
            "left": null,
            "margin": null,
            "max_height": null,
            "max_width": null,
            "min_height": null,
            "min_width": null,
            "object_fit": null,
            "object_position": null,
            "order": null,
            "overflow": null,
            "overflow_x": null,
            "overflow_y": null,
            "padding": null,
            "right": null,
            "top": null,
            "visibility": null,
            "width": null
          }
        },
        "b4fc58ea59bd4429a34cd7e17d1fdcc2": {
          "model_module": "@jupyter-widgets/base",
          "model_name": "LayoutModel",
          "model_module_version": "1.2.0",
          "state": {
            "_model_module": "@jupyter-widgets/base",
            "_model_module_version": "1.2.0",
            "_model_name": "LayoutModel",
            "_view_count": null,
            "_view_module": "@jupyter-widgets/base",
            "_view_module_version": "1.2.0",
            "_view_name": "LayoutView",
            "align_content": null,
            "align_items": null,
            "align_self": null,
            "border": null,
            "bottom": null,
            "display": null,
            "flex": null,
            "flex_flow": null,
            "grid_area": null,
            "grid_auto_columns": null,
            "grid_auto_flow": null,
            "grid_auto_rows": null,
            "grid_column": null,
            "grid_gap": null,
            "grid_row": null,
            "grid_template_areas": null,
            "grid_template_columns": null,
            "grid_template_rows": null,
            "height": null,
            "justify_content": null,
            "justify_items": null,
            "left": null,
            "margin": null,
            "max_height": null,
            "max_width": null,
            "min_height": null,
            "min_width": null,
            "object_fit": null,
            "object_position": null,
            "order": null,
            "overflow": null,
            "overflow_x": null,
            "overflow_y": null,
            "padding": null,
            "right": null,
            "top": null,
            "visibility": null,
            "width": null
          }
        },
        "6969383a9a2b4b9cb1d82f00e01c3e88": {
          "model_module": "@jupyter-widgets/controls",
          "model_name": "DescriptionStyleModel",
          "model_module_version": "1.5.0",
          "state": {
            "_model_module": "@jupyter-widgets/controls",
            "_model_module_version": "1.5.0",
            "_model_name": "DescriptionStyleModel",
            "_view_count": null,
            "_view_module": "@jupyter-widgets/base",
            "_view_module_version": "1.2.0",
            "_view_name": "StyleView",
            "description_width": ""
          }
        },
        "7219efed321b49ccb09b4691e0742cf6": {
          "model_module": "@jupyter-widgets/base",
          "model_name": "LayoutModel",
          "model_module_version": "1.2.0",
          "state": {
            "_model_module": "@jupyter-widgets/base",
            "_model_module_version": "1.2.0",
            "_model_name": "LayoutModel",
            "_view_count": null,
            "_view_module": "@jupyter-widgets/base",
            "_view_module_version": "1.2.0",
            "_view_name": "LayoutView",
            "align_content": null,
            "align_items": null,
            "align_self": null,
            "border": null,
            "bottom": null,
            "display": null,
            "flex": null,
            "flex_flow": null,
            "grid_area": null,
            "grid_auto_columns": null,
            "grid_auto_flow": null,
            "grid_auto_rows": null,
            "grid_column": null,
            "grid_gap": null,
            "grid_row": null,
            "grid_template_areas": null,
            "grid_template_columns": null,
            "grid_template_rows": null,
            "height": null,
            "justify_content": null,
            "justify_items": null,
            "left": null,
            "margin": null,
            "max_height": null,
            "max_width": null,
            "min_height": null,
            "min_width": null,
            "object_fit": null,
            "object_position": null,
            "order": null,
            "overflow": null,
            "overflow_x": null,
            "overflow_y": null,
            "padding": null,
            "right": null,
            "top": null,
            "visibility": null,
            "width": null
          }
        },
        "f3715ca08b0d429795eea6519aaa7c33": {
          "model_module": "@jupyter-widgets/controls",
          "model_name": "ProgressStyleModel",
          "model_module_version": "1.5.0",
          "state": {
            "_model_module": "@jupyter-widgets/controls",
            "_model_module_version": "1.5.0",
            "_model_name": "ProgressStyleModel",
            "_view_count": null,
            "_view_module": "@jupyter-widgets/base",
            "_view_module_version": "1.2.0",
            "_view_name": "StyleView",
            "bar_color": null,
            "description_width": ""
          }
        },
        "6a1dc06d171244a3b1f74fee4ea114a8": {
          "model_module": "@jupyter-widgets/base",
          "model_name": "LayoutModel",
          "model_module_version": "1.2.0",
          "state": {
            "_model_module": "@jupyter-widgets/base",
            "_model_module_version": "1.2.0",
            "_model_name": "LayoutModel",
            "_view_count": null,
            "_view_module": "@jupyter-widgets/base",
            "_view_module_version": "1.2.0",
            "_view_name": "LayoutView",
            "align_content": null,
            "align_items": null,
            "align_self": null,
            "border": null,
            "bottom": null,
            "display": null,
            "flex": null,
            "flex_flow": null,
            "grid_area": null,
            "grid_auto_columns": null,
            "grid_auto_flow": null,
            "grid_auto_rows": null,
            "grid_column": null,
            "grid_gap": null,
            "grid_row": null,
            "grid_template_areas": null,
            "grid_template_columns": null,
            "grid_template_rows": null,
            "height": null,
            "justify_content": null,
            "justify_items": null,
            "left": null,
            "margin": null,
            "max_height": null,
            "max_width": null,
            "min_height": null,
            "min_width": null,
            "object_fit": null,
            "object_position": null,
            "order": null,
            "overflow": null,
            "overflow_x": null,
            "overflow_y": null,
            "padding": null,
            "right": null,
            "top": null,
            "visibility": null,
            "width": null
          }
        },
        "28bf18a4d91f4dd28de48b4585257966": {
          "model_module": "@jupyter-widgets/controls",
          "model_name": "DescriptionStyleModel",
          "model_module_version": "1.5.0",
          "state": {
            "_model_module": "@jupyter-widgets/controls",
            "_model_module_version": "1.5.0",
            "_model_name": "DescriptionStyleModel",
            "_view_count": null,
            "_view_module": "@jupyter-widgets/base",
            "_view_module_version": "1.2.0",
            "_view_name": "StyleView",
            "description_width": ""
          }
        }
      }
    }
  },
  "nbformat": 4,
  "nbformat_minor": 0
}